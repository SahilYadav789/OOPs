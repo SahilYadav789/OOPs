{
  "nbformat": 4,
  "nbformat_minor": 0,
  "metadata": {
    "colab": {
      "provenance": []
    },
    "kernelspec": {
      "name": "python3",
      "display_name": "Python 3"
    },
    "language_info": {
      "name": "python"
    }
  },
  "cells": [
    {
      "cell_type": "markdown",
      "source": [
        "# **Object Oriented Programing(OOPs)**"
      ],
      "metadata": {
        "id": "Xzv1r1-PRDX8"
      }
    },
    {
      "cell_type": "markdown",
      "source": [
        "***THEORITICAL QUESTIONS***"
      ],
      "metadata": {
        "id": "YAt9J6MVV0dy"
      }
    },
    {
      "cell_type": "markdown",
      "source": [
        "**Q1. What is object oriented programing?**"
      ],
      "metadata": {
        "id": "qDG5srzJRTKM"
      }
    },
    {
      "cell_type": "markdown",
      "source": [
        "Object Oriented Programing is a programing model that organizes software around objects, which are units of data combined with the functions(methods)that operate on them, rather than focusing solely on logic and functions."
      ],
      "metadata": {
        "id": "pNz8mVXaSCL7"
      }
    },
    {
      "cell_type": "markdown",
      "source": [
        "**Q2. What is a class in oops?**"
      ],
      "metadata": {
        "id": "c9PmdT-oSpi-"
      }
    },
    {
      "cell_type": "markdown",
      "source": [
        "In Object Oriented Programing a class serves as a blueprint or template for creating objects. It defines the structure and behavior that objects of that class will possess. It's like a foundation of a building."
      ],
      "metadata": {
        "id": "K26ivb6oUWAE"
      }
    },
    {
      "cell_type": "markdown",
      "source": [
        "**Q3. What is an object in oops?**"
      ],
      "metadata": {
        "id": "wergNFdkVY5J"
      }
    },
    {
      "cell_type": "markdown",
      "source": [
        "In Object Oriented Programing an object is an instance of a class. It is an fundamental building block of oop, representing a real world entity or a concept within a software system."
      ],
      "metadata": {
        "id": "AIr7dOgtVyHe"
      }
    },
    {
      "cell_type": "markdown",
      "source": [
        "**Q4. What is the difference between abstraction and encpsualation?**"
      ],
      "metadata": {
        "id": "W63HwQZwW_ak"
      }
    },
    {
      "cell_type": "markdown",
      "source": [
        "Abstraction focuses on what an object does, presenting only the essential features and hiding the complex implementation details. It provides a high-level view of a system. Whereas, Encapsulation focuses on how an object's data and methods are bundeled together and how their access is controlled. It hides data and protect internal state of an object. Abstarction is more about design and providing a simplified interface, whereas encapsulation is more about implementation and securing data and behavior within a unit."
      ],
      "metadata": {
        "id": "o3r0mHjjXK57"
      }
    },
    {
      "cell_type": "markdown",
      "source": [
        "**Q5. What are dunder methods in Python?**"
      ],
      "metadata": {
        "id": "vVcOGF2kZnpV"
      }
    },
    {
      "cell_type": "markdown",
      "source": [
        "Dunder methods, are special methods in Python classes that are distinguished by their names strting and ending with double underscores(eg. \\_\\_init\\_\\_ , \\_\\_str\\_\\_ , \\_\\_len\\_\\_). They allow custom class to integrate seamlessly with Python's built in operations and functions, defining how objects of those classes behave in various contexts"
      ],
      "metadata": {
        "id": "rnDsh4hjaBXd"
      }
    },
    {
      "cell_type": "markdown",
      "source": [
        "**Q6. Explain the concept of inheritance in OOP.**"
      ],
      "metadata": {
        "id": "0Yab2vufrbp-"
      }
    },
    {
      "cell_type": "markdown",
      "source": [
        "Inheritance in Object-Oriented Programming (OOP) is a way for one class (called the child class or subclass) to reuse the properties and behaviors of another class (called the parent class or superclass)."
      ],
      "metadata": {
        "id": "x6KjpPcfrtm5"
      }
    },
    {
      "cell_type": "code",
      "source": [
        "# Example\n",
        "# Parent Class\n",
        "class Animal:\n",
        "    def speak(self):\n",
        "        print(\"This animal makes a sound\")\n",
        "\n",
        "# Child Class\n",
        "class Dog(Animal):\n",
        "    def speak(self):\n",
        "        print(\"The dog barks\")\n",
        "\n",
        "a = Animal()\n",
        "a.speak()\n",
        "\n",
        "d = Dog()\n",
        "d.speak()"
      ],
      "metadata": {
        "id": "NcaCCVHmsc2W"
      },
      "execution_count": null,
      "outputs": []
    },
    {
      "cell_type": "markdown",
      "source": [
        "**Q7. What is polymorphism in Python?**"
      ],
      "metadata": {
        "id": "lYcREGnMsxeh"
      }
    },
    {
      "cell_type": "markdown",
      "source": [
        "Polymorphism means \"many forms\".\n",
        "In Python (and OOP in general), polymorphism allows the same function name or operator to behave differently depending on the object or data type. Polymorphism in Python lets the same name (function/operator) work differently depending on the object it's used with."
      ],
      "metadata": {
        "id": "7SPlVWeMtG0h"
      }
    },
    {
      "cell_type": "markdown",
      "source": [
        "**Q8. How is encapsulation acheived in Python?**"
      ],
      "metadata": {
        "id": "L1hVsXQ-ttVc"
      }
    },
    {
      "cell_type": "markdown",
      "source": [
        "Encapsulation is the bundling of data (attributes) and methods (functions) into a single unit (a class) and restricting direct access to some parts of the object. Python doesn’t enforce strict access modifiers (private, protected, public) like Java or C++.\n",
        "\n",
        "1. Public Members - They can accessible\n",
        "   everywhere\n",
        "\n",
        "2. Protected Members- They are indicated with a single underscore(\\_).\n",
        "   It should be treated as internal use only, but still accessible.\n",
        "\n",
        "3. Private Members- They are indicated\n",
        "   with a double underscore(\\_\\_). Python performs name mangling to make it harder to access from outside."
      ],
      "metadata": {
        "id": "NIb1JILyt_UD"
      }
    },
    {
      "cell_type": "markdown",
      "source": [
        "**Q9. What is a constructor in Python?**"
      ],
      "metadata": {
        "id": "xBEoFiFcxb_M"
      }
    },
    {
      "cell_type": "markdown",
      "source": [
        "In Python OOP, a constructor is a special method that gets called automatically when an object is created from a class. It initialize the object's data (attributes). Example- Whenever you buy a new phone, it already comes with some default setup (language, date/time) — that's what a constructor does for objects.\n",
        "\n",
        "In Python, the constructor method is always named \\_\\_init\\_\\_."
      ],
      "metadata": {
        "id": "OFJHvYGFxkd5"
      }
    },
    {
      "cell_type": "markdown",
      "source": [
        "**Q10. What are class and static methods in Python?**"
      ],
      "metadata": {
        "id": "zmQzx9PjyT0I"
      }
    },
    {
      "cell_type": "markdown",
      "source": [
        "A class method is a method that works on the class itself, not on individual objects (instances).\n",
        "It takes cls (class) as the first parameter instead of self.\n",
        "\n",
        "It's often used when you want to do something related to the class as a whole, like creating objects in a special way (factory methods).\n",
        "\n",
        "A static method doesn't care about the object (self) or the class (cls).\n",
        "It's like a regular function, but placed inside a class for better organization.\n",
        "\n",
        "It's often used when the method is logically related to the class but doesn't need to access class or instance data.\n",
        "\n"
      ],
      "metadata": {
        "id": "OHOjqstoyeds"
      }
    },
    {
      "cell_type": "markdown",
      "source": [
        "**Q11. What is method overloading in Python?**"
      ],
      "metadata": {
        "id": "m0S98Xecz0Za"
      }
    },
    {
      "cell_type": "markdown",
      "source": [
        "Method overloading in Python refers to the concept where a single method name can be used to perform different operations based on the number or type of arguments passed to it. Unlike some other object-oriented programming languages (like Java or C++), Python does not support traditional method overloading where you can define multiple methods with the same name but different parameter lists within the same class."
      ],
      "metadata": {
        "id": "WPfgjkfl0DM0"
      }
    },
    {
      "cell_type": "markdown",
      "source": [
        "**Q12. What is method overriding in OOP?**"
      ],
      "metadata": {
        "id": "ZE9VALgy1Svp"
      }
    },
    {
      "cell_type": "markdown",
      "source": [
        "Method overriding in Python is a concept in object-oriented programming where a subclass provides its own specific implementation of a method that is already defined in its superclass. This means that if a method with the same name exists in both the parent class and the child class, the version in the child class will be executed when called on an object of the child class.\n"
      ],
      "metadata": {
        "id": "QhE9Tdcf1iyr"
      }
    },
    {
      "cell_type": "markdown",
      "source": [
        "**Q13. What is a property decorator in Python?**"
      ],
      "metadata": {
        "id": "4hyFp8QIIGSW"
      }
    },
    {
      "cell_type": "markdown",
      "source": [
        "In Python, a property decorator (@property) is used to turn a method in a class into an attribute-like property. It lets you access methods like attributes (without using parentheses ()), while still allowing you to keep control (like getters, setters, and deleters). It encapsulate (hide) data but still allow controlled access. It make the code cleaner and safer by avoiding direct attribute access."
      ],
      "metadata": {
        "id": "hQ6aGo2uIUZl"
      }
    },
    {
      "cell_type": "markdown",
      "source": [
        "**Q14. Why is polymorphism important in OOP?**"
      ],
      "metadata": {
        "id": "7eLt8R8fJhe7"
      }
    },
    {
      "cell_type": "markdown",
      "source": [
        "Polymorphism is important in OOP because of :-\n",
        "\n",
        "1. Code Reusability\n",
        "\n",
        "    We can write general code that works with different object types.\n",
        "\n",
        "      Example: a function can take any shape (Circle, Square, Triangle) and call .area() without caring which shape it is.\n",
        "\n",
        "2. Flexibility & Extensibility\n",
        "\n",
        "   New classes can be added without changing existing code.\n",
        "\n",
        "    Example: If you add a new class Rectangle with an .area() method,old code that uses .area() still works.\n",
        "\n",
        "3. Readability & Maintainability\n",
        "\n",
        "   Makes code cleaner because you don't need big if/else blocks to\n",
        "    check object type. Instead, each class defines its own behavior.\n",
        "\n",
        "4. Supports Abstraction & Encapsulation\n",
        "\n",
        "   Users of your class don't need to know how a method works, just\n",
        "    that it's available.\n",
        "\n",
        "    Example: .speak() on Dog and Cat works differently but looks the same to the outside world."
      ],
      "metadata": {
        "id": "d-u7NIlbJ6zh"
      }
    },
    {
      "cell_type": "markdown",
      "source": [
        "**Q15. What is an abstract class in Python?**"
      ],
      "metadata": {
        "id": "yCbiC-1MLVVT"
      }
    },
    {
      "cell_type": "markdown",
      "source": [
        "An abstract class is a class that cannot be instantiated directly (you can’t create objects from it).\n",
        "It is meant to provide a blueprint for other classes. An abstract class in Python is like a template. It defines what methods a subclass must have, but leaves the actual implementation to the child classes.\n",
        "\n",
        "In Python, abstract classes are defined using the abc module (Abstract Base Classes)."
      ],
      "metadata": {
        "id": "kfokbLFrLmx0"
      }
    },
    {
      "cell_type": "markdown",
      "source": [
        "**Q16. What are the advantages of OOP?**"
      ],
      "metadata": {
        "id": "4kkXuIKeL8QO"
      }
    },
    {
      "cell_type": "markdown",
      "source": [
        "The advantages of OOP are:-\n",
        "\n",
        "1. Modularity (Code Organization)\n",
        "\n",
        "    Code is organized into classes & objects, making it easier to understand, develop, and maintain. Each class handles its own responsibility (like Car, Engine, Wheel).\n",
        "\n",
        "2. Reusability\n",
        "\n",
        "    Classes and methods can be reused across projects.\n",
        "    Example: A User class written once can be used in multiple apps.\n",
        "\n",
        "3. Encapsulation (Data Hiding)\n",
        "\n",
        "    Internal details of an object are hidden from the outside world.Provides controlled access using getters/setters or properties.Improves security and prevents accidental changes.\n",
        "\n",
        "4. Inheritance (Code Sharing)\n",
        "\n",
        "    Allows new classes to be built on top of existing ones. Promotes code reuse and reduces duplication. Example: ElectricCar can inherit from Car and add new features.\n",
        "\n",
        "5. Polymorphism (Flexibility)\n",
        "\n",
        "    Same interface, different implementations. Makes code flexible and extensible. Example: .speak() method can work for Dog, Cat, or Bird."
      ],
      "metadata": {
        "id": "6Lmqs3c0MFht"
      }
    },
    {
      "cell_type": "markdown",
      "source": [
        "**Q17. What is the difference between a class variable and an instance variable?**"
      ],
      "metadata": {
        "id": "4zmOgVRQOrW0"
      }
    },
    {
      "cell_type": "markdown",
      "source": [
        "The class variable belongs to the class itself, shared by all objects. It is defined outside \\_\\_init\\_\\_, but inside the class. And, If we change it affects all instances unless overridden in that object.\n",
        "\n",
        "Whereas, Instance variable belongs to the object(instance). Each object has its own seperate copy. It is defined inside the \\_\\_init\\_\\_ method using self."
      ],
      "metadata": {
        "id": "s_grfCLCO7Ix"
      }
    },
    {
      "cell_type": "markdown",
      "source": [
        "**Q18. What is multiple inheritance in Python?**"
      ],
      "metadata": {
        "id": "101cliVIJ6vr"
      }
    },
    {
      "cell_type": "markdown",
      "source": [
        "Multiple inheritance in Python is a feature that allows a class to inherit a atributes and methods from more than one parent classes. This mean a single child class can combine functionalities and characterstics from several distinct parent classes."
      ],
      "metadata": {
        "id": "ZHiFFsf6KSn9"
      }
    },
    {
      "cell_type": "markdown",
      "source": [
        "**Q19. Explain the purpose of \" \\_\\_str\\_\\_ \" and \" \\_\\_repr\\_\\_ \" methods in Python.**"
      ],
      "metadata": {
        "id": "ybLVGiEyLkAz"
      }
    },
    {
      "cell_type": "markdown",
      "source": [
        "\\_\\_str\\_\\_ method defines a user-friendly (informal) string representation of the object. Used when you call print(obj) or str(obj). It focuses on human readability\n",
        "\n",
        "\\_\\_repr\\_\\_ method defines an official (formal) string representation of the object. Used when you call repr(obj) or just type the object name in the Python shell. Ideally, __repr__ should return a string that could be used to recreate the object (if possible)."
      ],
      "metadata": {
        "id": "_nzmb4r_MCjN"
      }
    },
    {
      "cell_type": "markdown",
      "source": [
        "**Q20. What is the significance of the 'super( )' function in Python?**"
      ],
      "metadata": {
        "id": "L3zD7946N4Bo"
      }
    },
    {
      "cell_type": "markdown",
      "source": [
        "The significance of super ( ) function are:-\n",
        "\n",
        "1. It allows a subclass to call methods defined in its parent class. This is crucial for extending or overriding inherited behavior while still leveraging the functionality provided by the parent class.\n",
        "\n",
        "2. It playes a vital role in managing the Method Resolution Order (MRO). It ensures the methods are called in a correct sequence across the inheritance hierarchy.\n",
        "\n",
        "3. It promotes code reusability and maintainability, developers can avoid explicity naming the parent class when calling its methods.\n",
        "\n",
        "4. It allows a subclass to override a method from its parent while still incorporating some of the parent's logic."
      ],
      "metadata": {
        "id": "pWFlcDYFOHD_"
      }
    },
    {
      "cell_type": "markdown",
      "source": [
        "**Q21. What is the significance of \\_\\_del\\_\\_ method in Python?**"
      ],
      "metadata": {
        "id": "AgK5DiCuRNNz"
      }
    },
    {
      "cell_type": "markdown",
      "source": [
        "The \\_\\_del\\_\\_ method in Python, often referred to as a destructor, holds significance as a special method invoked by Python's garbage collector when an object is to be destroyed. Its primary purpose is to allow an object tp perform cleanup operations before its memory is reclaimed."
      ],
      "metadata": {
        "id": "xsK4iwRuRbVy"
      }
    },
    {
      "cell_type": "markdown",
      "source": [
        "**Q22. What is the difference between @staticmethod and @classmethod in Python?**"
      ],
      "metadata": {
        "id": "ftDb8SZySTPH"
      }
    },
    {
      "cell_type": "markdown",
      "source": [
        "A static method does not take either the instance (self) or the class (cls) as its first argument. It behaves just like a regular function but happens to live inside a class, mostly for logical grouping. For example, if you put an add(a, b) method inside a Math class and mark it as a static method, it won't know anything about the class itself,  it just performs addition.\n",
        "\n",
        "On the other hand, a class method always takes the class itself as the first argument, usually named cls. This means it can access and even modify class-level variables. For instance, if you have a Person class with a species variable, a class method can change the species for all objects of that class at once. Class methods are also very handy when you want alternative ways to create objects, which is why they're often used as factory methods."
      ],
      "metadata": {
        "id": "XiTTeGdxSyNY"
      }
    },
    {
      "cell_type": "markdown",
      "source": [
        "**Q23. How does polymorphism works in Pyhton with inheritance?**"
      ],
      "metadata": {
        "id": "nsPDMl2tTB-A"
      }
    },
    {
      "cell_type": "markdown",
      "source": [
        "Polymorphism in Python with inheritance means that the same method name can behave differently depending on which class is using it.\n",
        "\n",
        "When a base class defines a method and the child class overrides (redefines) that method, Python decides at runtime which version to call, based on the actual object type, not just the reference. This is what gives us flexibility: one interface, many implementations."
      ],
      "metadata": {
        "id": "zLiIXgPOTTEK"
      }
    },
    {
      "cell_type": "code",
      "source": [
        "# Example\n",
        "\n",
        "class Animal:\n",
        "    def speak(self):\n",
        "        return \"Some sound\"\n",
        "\n",
        "class Dog(Animal):\n",
        "    def speak(self):\n",
        "        return \"Bhoow!\"\n",
        "\n",
        "class Cat(Animal):\n",
        "    def speak(self):\n",
        "        return \"Meow!\"\n",
        "\n",
        "\n",
        "animals = [Dog(), Cat(), Animal()]\n",
        "\n",
        "for a in animals:\n",
        "    print(a.speak())\n"
      ],
      "metadata": {
        "colab": {
          "base_uri": "https://localhost:8080/"
        },
        "id": "GAS-3vMfTgj7",
        "outputId": "2d40c8a6-b789-4fcc-9c37-e53c8055d373"
      },
      "execution_count": null,
      "outputs": [
        {
          "output_type": "stream",
          "name": "stdout",
          "text": [
            "Bhoow!\n",
            "Meow!\n",
            "Some sound\n"
          ]
        }
      ]
    },
    {
      "cell_type": "markdown",
      "source": [
        "Here, even though we are calling the same method speak( ) on different objects, the result changes according to the class. Python looks at the actual object type (Dog, Cat, or Animal) and calls the correct method."
      ],
      "metadata": {
        "id": "76U_F84HT76f"
      }
    },
    {
      "cell_type": "markdown",
      "source": [
        "**Q24. What is method chaining in Python OOP?**"
      ],
      "metadata": {
        "id": "tuiAg_3HUSuO"
      }
    },
    {
      "cell_type": "markdown",
      "source": [
        "Method chaining in Python Object-Oriented Programming (OOP) is a technique that enables the sequential invocation of multiple methods on a single object within a single line of code. This is achieved by having each method in the chain return the object itself (or a modified version of it), thereby allowing the next method in the sequence to be called directly on the returned object."
      ],
      "metadata": {
        "id": "7einbrogUdZT"
      }
    },
    {
      "cell_type": "markdown",
      "source": [
        "**Q25. What is the purpose of the \\_\\_call\\_\\_ method in Python?**"
      ],
      "metadata": {
        "id": "ydNN4uuGU2lq"
      }
    },
    {
      "cell_type": "markdown",
      "source": [
        "In Python, the \\_\\_call\\_\\_ method gives an object the ability to be used like a function. Normally, when you create an instance of a class, you interact with it through its methods or attributes. But if you define \\_\\_call\\_\\_ inside the class, you can 'call' the instance itself with parentheses, just like you would call a normal function.\n",
        "\n",
        "For example, imagine a class that multiplies numbers. If you implement \\_\\_call\\_\\_, the object itself can be treated like a multiplier function. This is useful when you want the object to carry some internal state, like a multiplier factor, but still behave like a function when used. That way, you get both the convenience of a function call and the structure of an object that remembers information."
      ],
      "metadata": {
        "id": "1ITjTSuKVAzj"
      }
    },
    {
      "cell_type": "markdown",
      "source": [
        "***PRACTICAL QUESTIONS***"
      ],
      "metadata": {
        "id": "q9zKvRQyVsDA"
      }
    },
    {
      "cell_type": "markdown",
      "source": [
        "**Q1. Create a parent class animal with a method speak( ) that prints a generic message. Create a child class Dog that overrides the speak( ) method to print \"Bark!\".**"
      ],
      "metadata": {
        "id": "I0Tx_9m8WJB9"
      }
    },
    {
      "cell_type": "code",
      "source": [
        "class Animal:\n",
        "    def speak(self):\n",
        "        print(\"This animal makes a sound\")\n",
        "\n",
        "class Dog(Animal):\n",
        "    def speak(self):\n",
        "        print(\"Bark!\")\n",
        "\n",
        "a = Animal()\n",
        "a.speak()\n",
        "\n",
        "d = Dog()\n",
        "d.speak()"
      ],
      "metadata": {
        "colab": {
          "base_uri": "https://localhost:8080/"
        },
        "id": "5hPj6LWkXnyp",
        "outputId": "01b1f087-b293-41d4-d9f7-1689d63550d7"
      },
      "execution_count": null,
      "outputs": [
        {
          "output_type": "stream",
          "name": "stdout",
          "text": [
            "This animal makes a sound\n",
            "Bark!\n"
          ]
        }
      ]
    },
    {
      "cell_type": "markdown",
      "source": [
        "**Q2. Write a program to create an abstract class shape with a method area( ). Derive classes circle and rectangle from it and implement the area ( ) method in both.**"
      ],
      "metadata": {
        "id": "VWbyTgNpYKi0"
      }
    },
    {
      "cell_type": "code",
      "source": [
        "class Area:\n",
        "    def area(self):\n",
        "        pass\n",
        "\n",
        "class Circle(Area):\n",
        "    def area(self, radius):\n",
        "        return 3.14 * radius * radius\n",
        "\n",
        "class Rectangle(Area):\n",
        "    def area(self, length, width):\n",
        "        return length * width\n",
        "\n",
        "r=float(input(\"Enter radius: \"))\n",
        "c = Circle()\n",
        "print(c.area(r))\n",
        "\n",
        "l=float(input(\"Enter length: \"))\n",
        "b=float(input(\"Enter breadth: \"))\n",
        "r = Rectangle()\n",
        "print(r.area(l,b))"
      ],
      "metadata": {
        "colab": {
          "base_uri": "https://localhost:8080/"
        },
        "id": "o6aRJ4xDYw_o",
        "outputId": "8354db5c-deea-4f1f-de1b-9fd3fe3971a4"
      },
      "execution_count": null,
      "outputs": [
        {
          "output_type": "stream",
          "name": "stdout",
          "text": [
            "Enter radius: 6.5\n",
            "132.665\n",
            "Enter length: 12\n",
            "Enter breadth: 9.2\n",
            "110.39999999999999\n"
          ]
        }
      ]
    },
    {
      "cell_type": "markdown",
      "source": [
        "**Q3. Implement a multi-level inheritance scenario wher an class Vehicle has an attribute type. Derive a class Car and further derives a class ElectricCar that adds a batery attribute.**"
      ],
      "metadata": {
        "id": "phx4xNdCaXuJ"
      }
    },
    {
      "cell_type": "code",
      "source": [
        "class Vehicle:\n",
        "    def __init__(self, type):\n",
        "        self.type = type\n",
        "    def show_info(self):\n",
        "        print(f\"Type: {self.type}\")\n",
        "\n",
        "class Car(Vehicle):\n",
        "    def __init__(self, type, color):\n",
        "        super().__init__(type)\n",
        "        self.color = color\n",
        "\n",
        "    def show_info(self):\n",
        "        super().show_info()\n",
        "        print(f\"Color: {self.color}\")\n",
        "\n",
        "class ElectricCar(Car):\n",
        "    def __init__(self, type, color, battery):\n",
        "        super().__init__(type, color)\n",
        "        self.battery = battery\n",
        "\n",
        "    def show_info(self):\n",
        "        super().show_info()\n",
        "        print(f\"Battery: {self.battery}\")\n",
        "\n",
        "typ=input(\"Enter type (electric or conventional): \").upper()\n",
        "color=input(\"Enter color here: \").upper()\n",
        "battery=input(\"Enter battery in kwh: \").upper()\n",
        "e_car= ElectricCar(typ,color,battery)\n",
        "e_car.show_info()\n",
        "\n",
        "\n"
      ],
      "metadata": {
        "colab": {
          "base_uri": "https://localhost:8080/"
        },
        "id": "ZbUl23QObE8l",
        "outputId": "bc0c279e-ffc3-46b6-e44c-3a288a98ea9c"
      },
      "execution_count": null,
      "outputs": [
        {
          "output_type": "stream",
          "name": "stdout",
          "text": [
            "Enter type (electric or conventional): electric\n",
            "Enter color here: white\n",
            "Enter battery in kwh: 40kwh\n",
            "Type: ELECTRIC\n",
            "Color: WHITE\n",
            "Battery: 40KWH\n"
          ]
        }
      ]
    },
    {
      "cell_type": "markdown",
      "source": [
        "**Q4. Demonstrate polymorphism by creating a base class Bird with a method fly ( ). Create two derived classes Sparrow and Penguin that override the fly ( ) method.**"
      ],
      "metadata": {
        "id": "c1Vte-ftZQGL"
      }
    },
    {
      "cell_type": "code",
      "source": [
        "class Bird:\n",
        "    def fly(self):\n",
        "        print(\"Birds can usually fly.\")\n",
        "\n",
        "class Sparrow(Bird):\n",
        "    def fly(self):\n",
        "        print(\"Sparrow flies high in the sky.\")\n",
        "\n",
        "class Penguin(Bird):\n",
        "    def fly(self):\n",
        "        print(\"Penguins cannot fly, they swim instead.\")\n",
        "\n",
        "birds = [Sparrow(), Penguin()]\n",
        "\n",
        "for bird in birds:\n",
        "    bird.fly()\n",
        "\n"
      ],
      "metadata": {
        "colab": {
          "base_uri": "https://localhost:8080/"
        },
        "id": "c-aC3TD5aDvz",
        "outputId": "381306ce-bf0a-4c91-a4cd-016da02ff70f"
      },
      "execution_count": null,
      "outputs": [
        {
          "output_type": "stream",
          "name": "stdout",
          "text": [
            "Sparrow flies high in the sky.\n",
            "Penguins cannot fly, they swim instead.\n"
          ]
        }
      ]
    },
    {
      "cell_type": "markdown",
      "source": [
        "**Q5. Write a program to demonstrate encapsulation by creating a BankAccount with private attributes balance and methods to deposit, withdraw and check balance.**"
      ],
      "metadata": {
        "id": "oKYfUL4qb2yW"
      }
    },
    {
      "cell_type": "code",
      "source": [
        "class BankAccount:\n",
        "    def __init__(self, balance):\n",
        "        self.__balance = balance\n",
        "\n",
        "    def deposit(self, amount):\n",
        "        self.__balance += amount\n",
        "        print(f\"Deposited {amount}. New balance: {self.__balance}\")\n",
        "\n",
        "    def withdraw(self, amount):\n",
        "        if amount <= self.__balance:\n",
        "            self.__balance -= amount\n",
        "            print(f\"Withdrew {amount}.\")\n",
        "        else:\n",
        "            print(\"Insufficient funds.\")\n",
        "\n",
        "    def check_balance(self):\n",
        "        print(f\"Current balance: {self.__balance}\")\n",
        "\n",
        "account = BankAccount(1000)\n",
        "\n",
        "while True:\n",
        "\n",
        "  ask=input(\"Enter Deposit/Withdraw/Check balance/Stop: \").replace(\" \",\"\").lower()\n",
        "\n",
        "  if ask==\"deposit\":\n",
        "    amount=int(input(\"Enter amount: \"))\n",
        "    account.deposit(amount)\n",
        "\n",
        "  elif ask==\"withdraw\":\n",
        "    amount=int(input(\"Enter amount: \"))\n",
        "    account.withdraw(amount)\n",
        "\n",
        "  elif ask==\"checkbalance\":\n",
        "    account.check_balance()\n",
        "\n",
        "  elif ask==\"stop\":\n",
        "    break\n",
        "\n",
        "  else:\n",
        "    print(\"Invalid input\")\n",
        "\n",
        "account.check_balance()\n"
      ],
      "metadata": {
        "colab": {
          "base_uri": "https://localhost:8080/"
        },
        "id": "fJgvialtcfGP",
        "outputId": "519d5bc7-c0e1-47d9-b091-e64acdde1602"
      },
      "execution_count": null,
      "outputs": [
        {
          "output_type": "stream",
          "name": "stdout",
          "text": [
            "Enter Deposit/Withdraw/Check balance/Stop: withdraw\n",
            "Enter amount: 500\n",
            "Withdrew 500.\n",
            "Enter Deposit/Withdraw/Check balance/Stop: check balance\n",
            "Current balance: 500\n",
            "Enter Deposit/Withdraw/Check balance/Stop: deposit\n",
            "Enter amount: 1000\n",
            "Deposited 1000. New balance: 1500\n",
            "Enter Deposit/Withdraw/Check balance/Stop: check balance\n",
            "Current balance: 1500\n",
            "Enter Deposit/Withdraw/Check balance/Stop: stop\n",
            "Current balance: 1500\n"
          ]
        }
      ]
    },
    {
      "cell_type": "markdown",
      "source": [
        "**Q6. Demonstrate runtime polymorphism using a method play( ) in base class Instrument. Derive class Guitar and Piano that implement their own version of play( ).**"
      ],
      "metadata": {
        "id": "t-Z95r7Ap1kd"
      }
    },
    {
      "cell_type": "code",
      "source": [
        "class Instrument:\n",
        "    def play(self):\n",
        "        print(\"Playing some instrument sound\")\n",
        "\n",
        "class Guitar(Instrument):\n",
        "    def play(self):\n",
        "        print(\"Strumming the guitar \")\n",
        "\n",
        "class Piano(Instrument):\n",
        "    def play(self):\n",
        "        print(\"Playing the piano \")\n",
        "\n",
        "\n",
        "def start_playing(instrument):\n",
        "    instrument.play()\n",
        "\n",
        "g = Guitar()\n",
        "p = Piano()\n",
        "\n",
        "start_playing(g)\n",
        "start_playing(p)\n",
        "\n",
        "\n"
      ],
      "metadata": {
        "colab": {
          "base_uri": "https://localhost:8080/"
        },
        "id": "Jh_pN-x4qd4x",
        "outputId": "c68ec551-1e15-4ea6-f30d-609185d5e891"
      },
      "execution_count": null,
      "outputs": [
        {
          "output_type": "stream",
          "name": "stdout",
          "text": [
            "Strumming the guitar \n",
            "Playing the piano \n"
          ]
        }
      ]
    },
    {
      "cell_type": "markdown",
      "source": [
        "**Q7. Create a class MathOperations with a class method add_numbers( ) to add two numbers and a static method substract _numbers( ) to substract two numbers.**"
      ],
      "metadata": {
        "id": "LwCB09V_sKVL"
      }
    },
    {
      "cell_type": "code",
      "source": [
        "class MathOperations:\n",
        "    @classmethod\n",
        "    def add_numbers(cls, a, b):\n",
        "        return a + b\n",
        "\n",
        "    @staticmethod\n",
        "    def subtract_numbers(a, b):\n",
        "        return a - b\n",
        "\n",
        "a=int(input(\"Enter first number: \"))\n",
        "b=int(input(\"Enter second number: \"))\n",
        "print(\"ADDITION=\", MathOperations.add_numbers(a,b))\n",
        "print(\"SUBSTRACTION=\", MathOperations.subtract_numbers(a,b))"
      ],
      "metadata": {
        "colab": {
          "base_uri": "https://localhost:8080/"
        },
        "id": "1Ogj0YQus1Cu",
        "outputId": "ee323d0e-18ba-44a9-90f3-31a6f12ef2e9"
      },
      "execution_count": null,
      "outputs": [
        {
          "output_type": "stream",
          "name": "stdout",
          "text": [
            "Enter first number: 5\n",
            "Enter second number: 9\n",
            "ADDITION= 14\n",
            "SUBSTRACTION= -4\n"
          ]
        }
      ]
    },
    {
      "cell_type": "markdown",
      "source": [
        "**Q8. Implement a class Person with a class method to count the total number of persons created.**"
      ],
      "metadata": {
        "id": "WN7kK6Zx6v0C"
      }
    },
    {
      "cell_type": "code",
      "source": [
        "class Person:\n",
        "    count = 0\n",
        "\n",
        "    def __init__(self):\n",
        "        Person.count += 1\n",
        "\n",
        "    @classmethod\n",
        "    def get_count(cls):\n",
        "        return cls.count\n",
        "\n",
        "person1 = Person()\n",
        "person2 = Person()\n",
        "person3 = Person()\n",
        "person4 = Person()\n",
        "\n",
        "print(\"Total number of person created\",Person.get_count())"
      ],
      "metadata": {
        "colab": {
          "base_uri": "https://localhost:8080/"
        },
        "id": "0NWKY5pv92Il",
        "outputId": "c06b90c6-6c5d-411d-b8b2-ecf210bc87a6"
      },
      "execution_count": null,
      "outputs": [
        {
          "output_type": "stream",
          "name": "stdout",
          "text": [
            "Total number of person created 4\n"
          ]
        }
      ]
    },
    {
      "cell_type": "markdown",
      "source": [
        "**Q9. Write a class Fraction with atributes numerator and denominator. Override the str method to display the fraction as \"numerator/dinominator\".**"
      ],
      "metadata": {
        "id": "OI5-x64z_Oy_"
      }
    },
    {
      "cell_type": "code",
      "source": [
        "class Fraction:\n",
        "    def __init__(self, numerator, denominator):\n",
        "        self.numerator = numerator\n",
        "        self.denominator = denominator\n",
        "\n",
        "    def __str__(self):\n",
        "        return f\"{self.numerator}/{self.denominator}\"\n",
        "\n",
        "a=int(input(\"Enter numerator: \"))\n",
        "b=int(input(\"Enter denominator: \"))\n",
        "\n",
        "f = Fraction(a,b)\n",
        "print(\"The fraction =\",f)"
      ],
      "metadata": {
        "colab": {
          "base_uri": "https://localhost:8080/"
        },
        "id": "m7lw8v-LCAMg",
        "outputId": "f62d89ba-50c1-4d33-ba6e-19652f6868cd"
      },
      "execution_count": null,
      "outputs": [
        {
          "output_type": "stream",
          "name": "stdout",
          "text": [
            "Enter numerator: 16\n",
            "Enter denominator: 5\n",
            "The fraction = 16/5\n"
          ]
        }
      ]
    },
    {
      "cell_type": "markdown",
      "source": [
        "**Q10. Demonstrate operator overloading by creating a class Vector and overriding the add method to add two numbers.**"
      ],
      "metadata": {
        "id": "HsVn_tauC4sl"
      }
    },
    {
      "cell_type": "code",
      "source": [
        "class Vector:\n",
        "  def __init__(self, x, y):\n",
        "    self.x = x\n",
        "    self.y = y\n",
        "\n",
        "  def __add__(self,other):\n",
        "    return Vector(self.x + other.x, self.y + other.y)\n",
        "\n",
        "  def __str__(self):\n",
        "    return f\"({self.x}, {self.y})\"\n",
        "\n",
        "a=int(input(\"Enter x1: \"))\n",
        "b=int(input(\"Enter y1: \"))\n",
        "c=int(input(\"Enter x2: \"))\n",
        "d=int(input(\"Enter y2: \"))\n",
        "print(\"V1=\",Vector(a,b))\n",
        "print(\"V2=\",Vector(c,d))\n",
        "\n",
        "v1=Vector(a,b)\n",
        "v2=Vector(c,d)\n",
        "print(\"Addition=\",v1+v2)"
      ],
      "metadata": {
        "colab": {
          "base_uri": "https://localhost:8080/"
        },
        "id": "KVI9enndETcR",
        "outputId": "2ab51c26-12b6-40c5-a84e-b2434e68451b"
      },
      "execution_count": null,
      "outputs": [
        {
          "output_type": "stream",
          "name": "stdout",
          "text": [
            "Enter x1: 6\n",
            "Enter y1: 9\n",
            "Enter x2: 4\n",
            "Enter y2: 12\n",
            "V1= (6, 9)\n",
            "V2= (4, 12)\n",
            "Addition= (10, 21)\n"
          ]
        }
      ]
    },
    {
      "cell_type": "markdown",
      "source": [
        "**Q11. Create a class Person with attributes name and age. Add a method greet( ) that prints \"Hello, my name is {name} and I am {age} years old.\"**"
      ],
      "metadata": {
        "id": "smp-3DzzGWxQ"
      }
    },
    {
      "cell_type": "code",
      "source": [
        "class Person:\n",
        "  def __init__(self, name, age):\n",
        "    self.name = name\n",
        "    self.age = age\n",
        "\n",
        "  def greet(self):\n",
        "    print(f\"Hello, my name is {self.name} and I am {self.age} years old.\")\n",
        "\n",
        "name=input(\"Enter name: \")\n",
        "age=int(input(\"Enter age: \"))\n",
        "p = Person(name,age)\n",
        "p.greet()"
      ],
      "metadata": {
        "colab": {
          "base_uri": "https://localhost:8080/"
        },
        "id": "pLg71_2EG8um",
        "outputId": "2ba06ab6-658f-40fd-d387-d606bc158069"
      },
      "execution_count": null,
      "outputs": [
        {
          "output_type": "stream",
          "name": "stdout",
          "text": [
            "Enter name: sahil\n",
            "Enter age: 21\n",
            "Hello, my name is sahil and I am 21 years old.\n"
          ]
        }
      ]
    },
    {
      "cell_type": "markdown",
      "source": [
        "**Q12. Implement a class Student with attributes name and grades. Create a method average_grade( ) to compute the average of the grades.**"
      ],
      "metadata": {
        "id": "fq_ubbOuHU2y"
      }
    },
    {
      "cell_type": "code",
      "source": [
        "class Student:\n",
        "  def __init__(self, name, grades):\n",
        "    self.name = name\n",
        "    self.grades = grades\n",
        "\n",
        "  def average_grade(self):\n",
        "    return sum(self.grades) / len(self.grades)\n",
        "\n",
        "grade=[]\n",
        "sub=int(input(\"Enter number of subjects: \"))\n",
        "for i in range(sub):\n",
        "  grade.append(int(input(f\"Enter grade of subject {i+1} here: \")))\n",
        "\n",
        "name=input(\"Enter name: \")\n",
        "s = Student(name,grade)\n",
        "print(f\"Average grade of {name} =\",s.average_grade())"
      ],
      "metadata": {
        "colab": {
          "base_uri": "https://localhost:8080/"
        },
        "id": "3l4dI4V_H3fU",
        "outputId": "bf2328ae-8493-4523-edd5-ca41d586be74"
      },
      "execution_count": null,
      "outputs": [
        {
          "output_type": "stream",
          "name": "stdout",
          "text": [
            "Enter number of subjects: 5\n",
            "Enter grade of subject 1 here: 67\n",
            "Enter grade of subject 2 here: 82\n",
            "Enter grade of subject 3 here: 78\n",
            "Enter grade of subject 4 here: 59\n",
            "Enter grade of subject 5 here: 75\n",
            "Enter name: sahil\n",
            "Average grade of sahil = 72.2\n"
          ]
        }
      ]
    },
    {
      "cell_type": "markdown",
      "source": [
        "**Q13. Create a class Rectangle with methods set_dimensions( ) to set the dimensions and area( ) to calculate the area.**"
      ],
      "metadata": {
        "id": "W9ajxrfJKRWF"
      }
    },
    {
      "cell_type": "code",
      "source": [
        "class Rectangle:\n",
        "  def __init__(self, length, width):\n",
        "    self.length = length\n",
        "    self.width = width\n",
        "\n",
        "  def set_dimensions(self, length, width):\n",
        "    self.length = length\n",
        "    self.width = width\n",
        "\n",
        "  def area(self):\n",
        "    return self.length * self.width\n",
        "\n",
        "l=float(input(\"Enter length here:\"))\n",
        "w=float(input(\"Enter width here:\"))\n",
        "r = Rectangle(l,w)\n",
        "r.set_dimensions(l,w)\n",
        "print(\"Area =\",r.area())"
      ],
      "metadata": {
        "colab": {
          "base_uri": "https://localhost:8080/"
        },
        "id": "hQ5PoyeKKrYb",
        "outputId": "c712b4e8-6a79-4869-d72b-5b5d03316385"
      },
      "execution_count": null,
      "outputs": [
        {
          "output_type": "stream",
          "name": "stdout",
          "text": [
            "Enter length here:12.5\n",
            "Enter width here:9\n",
            "Area = 112.5\n"
          ]
        }
      ]
    },
    {
      "cell_type": "markdown",
      "source": [
        "**Q14. Create a class Employee with a methiod calculate_salary( ) that computes the salary based on hours worked and hourly rate. Create a derived class Manager that adds a bonus to the salary.**"
      ],
      "metadata": {
        "id": "TmQX7gwJLZxs"
      }
    },
    {
      "cell_type": "code",
      "source": [
        "class Employee:\n",
        "  def __init__(self, name, hours_worked, hourly_rate):\n",
        "    self.name = name\n",
        "    self.hours_worked = hours_worked\n",
        "    self.hourly_rate = hourly_rate\n",
        "\n",
        "  def calculate_salary(self):\n",
        "    return self.hours_worked * self.hourly_rate\n",
        "\n",
        "  def __str__(self):\n",
        "    return f\"Name: {self.name}\\nHours Worked: {self.hours_worked}\\nHourly Rate: {self.hourly_rate}\"\n",
        "\n",
        "class Manager(Employee):\n",
        "  def __init__(self, name, hours_worked, hourly_rate, bonus):\n",
        "    super().__init__(name, hours_worked, hourly_rate)\n",
        "    self.bonus = bonus\n",
        "\n",
        "  def calculate_salary(self):\n",
        "    return super().calculate_salary() + self.bonus\n",
        "\n",
        "  def __str__(self):\n",
        "    return super().__str__() + f\"\\nBonus: {self.bonus}\" f\"\\nTotal Salary: {self.calculate_salary()}\"\n",
        "\n",
        "\n",
        "name=input(\"Enter name: \")\n",
        "hours=int(input(\"Enter hours worked in a month: \"))\n",
        "hourly=int(input(\"Enter hourly rate: \"))\n",
        "bonus=int(input(\"Enter bonus: \"))\n",
        "m = Manager(name,hours,hourly,bonus)\n",
        "print(m)\n",
        "\n",
        "\n"
      ],
      "metadata": {
        "colab": {
          "base_uri": "https://localhost:8080/"
        },
        "id": "B42RFnXyMBqj",
        "outputId": "5f0bbbd6-4bd7-4759-cc40-28ea2dc5e7a5"
      },
      "execution_count": null,
      "outputs": [
        {
          "output_type": "stream",
          "name": "stdout",
          "text": [
            "Enter name: sahil\n",
            "Enter hours worked in a month: 4596\n",
            "Enter hourly rate: 15\n",
            "Enter bonus: 4000\n",
            "Name: sahil\n",
            "Hours Worked: 4596\n",
            "Hourly Rate: 15\n",
            "Bonus: 4000\n",
            "Total Salary: 72940\n"
          ]
        }
      ]
    },
    {
      "cell_type": "markdown",
      "source": [
        "**Q15. Create a class Product with attributes name, class and quantity. Implement a method total_price( ) that calculates the total price of the product.**"
      ],
      "metadata": {
        "id": "dhCJy4tFRDZW"
      }
    },
    {
      "cell_type": "code",
      "source": [
        "class Product:\n",
        "  def __init__(self, name, price, quantity):\n",
        "    self.name = name\n",
        "    self.price = price\n",
        "    self.quantity = quantity\n",
        "\n",
        "  def total_price(self):\n",
        "    return self.price * self.quantity\n",
        "\n",
        "  def __str__(self):\n",
        "    return f\"You odered {self.quantity} {self.name} of ₹{self.price} per unit \\nTotal price you need to pay: {self.total_price()}\\nThank You! Sir for your order\"\n",
        "\n",
        "name=input(\"Enter name: \")\n",
        "price=int(input(\"Enter price: \"))\n",
        "quantity=int(input(\"Enter quantity: \"))\n",
        "p = Product(name,price,quantity)\n",
        "print(p)"
      ],
      "metadata": {
        "colab": {
          "base_uri": "https://localhost:8080/"
        },
        "id": "mQueV4sWRnJx",
        "outputId": "1c1ff9de-65aa-4e5b-f55b-9dc80322706c"
      },
      "execution_count": null,
      "outputs": [
        {
          "output_type": "stream",
          "name": "stdout",
          "text": [
            "Enter name: banana\n",
            "Enter price: 5\n",
            "Enter quantity: 12\n",
            "You odered 12 banana of ₹5 per unit \n",
            "Total price you need to pay: 60\n",
            "Thank You! Sir for your order\n"
          ]
        }
      ]
    },
    {
      "cell_type": "markdown",
      "source": [
        "**Q16. Create a class Animal with an abstract method sound( ). Create two derived classes Cow and Sheep that implement that implement the sound( ) method.**"
      ],
      "metadata": {
        "id": "NFdP1vX6Twjc"
      }
    },
    {
      "cell_type": "code",
      "source": [
        "from abc import ABC, abstractmethod\n",
        "class Animal(ABC):\n",
        "  @abstractmethod\n",
        "  def sound(self):\n",
        "    pass\n",
        "\n",
        "class Cow(Animal):\n",
        "  def sound(self):\n",
        "    print(\"Cow does Maaww!\")\n",
        "\n",
        "class Sheep(Animal):\n",
        "  def sound(self):\n",
        "    print(\"Sheep does Baaa!\")\n",
        "\n",
        "c=Cow()\n",
        "s=Sheep()\n",
        "c.sound()\n",
        "s.sound()"
      ],
      "metadata": {
        "colab": {
          "base_uri": "https://localhost:8080/"
        },
        "id": "N1gUn6_HUTcD",
        "outputId": "c7dde9b1-631c-4e6b-de7c-c889f72d6af8"
      },
      "execution_count": null,
      "outputs": [
        {
          "output_type": "stream",
          "name": "stdout",
          "text": [
            "Cow does Maaww!\n",
            "Sheep does Baaa!\n"
          ]
        }
      ]
    },
    {
      "cell_type": "markdown",
      "source": [
        "**Q17. Create a class Book with attributes title, author and year_published. Add a method get_book_info( ) that returns a formated string with the book's details.**"
      ],
      "metadata": {
        "id": "UBmFD8_yAWUx"
      }
    },
    {
      "cell_type": "code",
      "source": [
        "class Book:\n",
        "  def __init__(self, title, author, year_published):\n",
        "    self.title = title\n",
        "    self.author = author\n",
        "    self.year_published = year_published\n",
        "\n",
        "  def get_book_info(self):\n",
        "    return f\"Title of the book is {(self.title).upper()} and Author of this book is {(self.author).upper()} which was published in {self.year_published} year\"\n",
        "\n",
        "title=input(\"Enter title: \")\n",
        "author=input(\"Enter author: \")\n",
        "year=int(input(\"Enter year published: \"))\n",
        "b = Book(title,author,year)\n",
        "print(b.get_book_info())"
      ],
      "metadata": {
        "colab": {
          "base_uri": "https://localhost:8080/"
        },
        "id": "KIO7xvcHBVCE",
        "outputId": "d2f58cdc-3700-4444-8021-d55a35f88f87"
      },
      "execution_count": 3,
      "outputs": [
        {
          "output_type": "stream",
          "name": "stdout",
          "text": [
            "Enter title: the power of subconscious mind\n",
            "Enter author: joseph murphy\n",
            "Enter year published: 1963\n",
            "Title of the book is THE POWER OF SUBCONSCIOUS MIND and Author of this book is JOSEPH MURPHY which was published in 1963 year\n"
          ]
        }
      ]
    },
    {
      "cell_type": "markdown",
      "source": [
        "**Q18. Create a class House with attributes adress and price. Create a derived class Mansion that adds an attribute number_of_rooms.**"
      ],
      "metadata": {
        "id": "gPRplBYXDH39"
      }
    },
    {
      "cell_type": "code",
      "source": [
        "class House:\n",
        "  def __init__(self, address, price):\n",
        "    self.address = address\n",
        "    self.price = price\n",
        "\n",
        "class Mansion(House):\n",
        "  def __init__(self, address, price, number_of_rooms):\n",
        "    super().__init__(address, price)\n",
        "    self.number_of_rooms = number_of_rooms\n",
        "\n",
        "address=input(\"Enter address: \")\n",
        "price=int(input(\"Enter price: \"))\n",
        "number_of_rooms=int(input(\"Enter number of rooms: \"))\n",
        "m = Mansion(address,price,number_of_rooms)\n",
        "print(f\"The Mansion is located in {m.address} costs ₹{m.price} consists of {m.number_of_rooms} number of rooms in it.\")"
      ],
      "metadata": {
        "colab": {
          "base_uri": "https://localhost:8080/"
        },
        "id": "f89IucoDDiIo",
        "outputId": "d8accccb-8efb-41ce-9202-eabaeb808b6f"
      },
      "execution_count": 4,
      "outputs": [
        {
          "output_type": "stream",
          "name": "stdout",
          "text": [
            "Enter address: Tribeni Tissue\n",
            "Enter price: 6300000\n",
            "Enter number of rooms: 7\n",
            "The Mansion is located in Tribeni Tissue costs ₹6300000 consists of 7 number of rooms in it.\n"
          ]
        }
      ]
    }
  ]
}